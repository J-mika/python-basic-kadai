{
  "nbformat": 4,
  "nbformat_minor": 0,
  "metadata": {
    "colab": {
      "provenance": []
    },
    "kernelspec": {
      "name": "python3",
      "display_name": "Python 3"
    },
    "language_info": {
      "name": "python"
    }
  },
  "cells": [
    {
      "cell_type": "code",
      "execution_count": 1,
      "metadata": {
        "colab": {
          "base_uri": "https://localhost:8080/"
        },
        "id": "1UdEweBMgvIc",
        "outputId": "95fb7a0d-1195-4174-a7bf-b5588f1146c9"
      },
      "outputs": [
        {
          "output_type": "stream",
          "name": "stdout",
          "text": [
            "110.0円(税込)\n"
          ]
        }
      ],
      "source": [
        "#第１引数に商品の金額、第２引数に消費税(10％)として消費税を加えた計算結果を返す関数\n",
        "def total_price(price, tax):\n",
        "  tax_amount = price * (tax / 100)\n",
        "  total_price = price + tax_amount\n",
        "  return total_price\n",
        "\n",
        "total_price(100,10)\n",
        "\n",
        "print(f\"{total_price(100,10)}円(税込)\")"
      ]
    },
    {
      "cell_type": "markdown",
      "source": [],
      "metadata": {
        "id": "E6NdRLrwgwAF"
      }
    }
  ]
}