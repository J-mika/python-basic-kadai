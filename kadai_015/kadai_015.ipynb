{
  "nbformat": 4,
  "nbformat_minor": 0,
  "metadata": {
    "colab": {
      "provenance": []
    },
    "kernelspec": {
      "name": "python3",
      "display_name": "Python 3"
    },
    "language_info": {
      "name": "python"
    }
  },
  "cells": [
    {
      "cell_type": "code",
      "execution_count": 2,
      "metadata": {
        "colab": {
          "base_uri": "https://localhost:8080/"
        },
        "id": "oHVI08Fy9FGc",
        "outputId": "ef7617a6-e9f7-4a83-b8f3-cd2079a7c5f6"
      },
      "outputs": [
        {
          "output_type": "stream",
          "name": "stdout",
          "text": [
            "私の名前はミカです。\n",
            "年齢は45です。\n"
          ]
        }
      ],
      "source": [
        "class Human:\n",
        "  def __init__(self, name, age):\n",
        "    self.name = name\n",
        "    self.age = age\n",
        "\n",
        "  def set_name(self,name):\n",
        "    self.name = name\n",
        "  def set_age(self,age):\n",
        "    self.age = age\n",
        "\n",
        " #printinfoメソッドを定義する\n",
        "  def printinfo(self):\n",
        "    print(f\"私の名前は{self.name}です。\")\n",
        "    print(f\"年齢は{self.age}です。\")\n",
        "\n",
        "#インスタンス化する\n",
        "human = Human(\"ミカ\",\"45\")\n",
        "\n",
        "#printinfoメソッドにアクセスし、値を出力する\n",
        "human.printinfo()"
      ]
    }
  ]
}