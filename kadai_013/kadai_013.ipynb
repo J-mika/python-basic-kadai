{
  "nbformat": 4,
  "nbformat_minor": 0,
  "metadata": {
    "colab": {
      "provenance": []
    },
    "kernelspec": {
      "name": "python3",
      "display_name": "Python 3"
    },
    "language_info": {
      "name": "python"
    }
  },
  "cells": [
    {
      "cell_type": "code",
      "execution_count": null,
      "metadata": {
        "colab": {
          "base_uri": "https://localhost:8080/"
        },
        "id": "1UdEweBMgvIc",
        "outputId": "1e9a8ae7-7d6a-4b01-9cb4-4293b4a7f0c5"
      },
      "outputs": [
        {
          "output_type": "execute_result",
          "data": {
            "text/plain": [
              "110.0"
            ]
          },
          "metadata": {},
          "execution_count": 1
        }
      ],
      "source": [
        "#第１引数に商品の金額、第２引数に消費税(10％)として消費税を加えた計算結果を返す関数\n",
        "def total_price(price, tax):\n",
        "  tax_amount = price * (tax / 100)\n",
        "  total_price = price + tax_amount\n",
        "  return total_price\n",
        "\n",
        "total_price(100,10)"
      ]
    },
    {
      "cell_type": "markdown",
      "source": [],
      "metadata": {
        "id": "E6NdRLrwgwAF"
      }
    }
  ]
}