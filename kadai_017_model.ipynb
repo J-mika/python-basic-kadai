{
  "nbformat": 4,
  "nbformat_minor": 0,
  "metadata": {
    "colab": {
      "provenance": []
    },
    "kernelspec": {
      "name": "python3",
      "display_name": "Python 3"
    },
    "language_info": {
      "name": "python"
    }
  },
  "cells": [
    {
      "cell_type": "code",
      "execution_count": null,
      "metadata": {
        "colab": {
          "base_uri": "https://localhost:8080/"
        },
        "id": "lE4842qVwe1V",
        "outputId": "b284f603-58f6-410b-c9c3-8a03c4eab34c"
      },
      "outputs": [
        {
          "output_type": "stream",
          "name": "stdout",
          "text": [
            "hanakoは大人です。\n",
            "tarouは大人ではないです。\n",
            "aoiは大人です。\n"
          ]
        }
      ],
      "source": [
        "#Humanクラスの定義\n",
        "class Human:\n",
        "  def __init__(self, name, age):\n",
        "    self.name = name\n",
        "    self.age = age\n",
        "\n",
        "  def check_adult(self):\n",
        "    if self.age >= 20:\n",
        "      return f\"{self.name}は大人です。\"\n",
        "    else:\n",
        "      return f\"{self.name}は大人ではないです。\"\n",
        "\n",
        "#Humanクラスのインスタンスを作成\n",
        "human1 = Human(\"hanako\",20)\n",
        "human2 = Human(\"tarou\",19)\n",
        "human3 = Human(\"aoi\",21)\n",
        "\n",
        "#インスタンスをリストに追加\n",
        "human_list = [human1, human2, human3]\n",
        "\n",
        "#check_adultメソッドを呼び出す\n",
        "for human in human_list:\n",
        "  print(human.check_adult())"
      ]
    },
    {
      "cell_type": "code",
      "source": [
        "class Human:\n",
        "\n",
        "  def __init__(self, name, age):\n",
        "    self.name = name\n",
        "    self.age = age\n",
        "\n",
        "  def check_adult(self):\n",
        "    if self.age >= 20:\n",
        "      print(self.name + \" is adult.\")\n",
        "    else:\n",
        "      print(self.name + \" is not adult.\")\n",
        "\n",
        "\n",
        "humans = [Human(\"ichiro\", 19), Human(\"jiro\", 20), Human(\"saburo\",21)]\n",
        "\n",
        "#check_adultメソッドを呼び出す\n",
        "for human in humans:\n",
        "    human.check_adult()"
      ],
      "metadata": {
        "colab": {
          "base_uri": "https://localhost:8080/"
        },
        "id": "jtV-QFNaMWbI",
        "outputId": "9107cb1d-d6f9-4c14-8658-6f3695b26e7d"
      },
      "execution_count": 5,
      "outputs": [
        {
          "output_type": "stream",
          "name": "stdout",
          "text": [
            "ichiro is not adult.\n",
            "jiro is adult.\n",
            "saburo is adult.\n"
          ]
        }
      ]
    }
  ]
}