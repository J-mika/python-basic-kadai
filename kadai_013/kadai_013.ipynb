{
  "nbformat": 4,
  "nbformat_minor": 0,
  "metadata": {
    "colab": {
      "provenance": []
    },
    "kernelspec": {
      "name": "python3",
      "display_name": "Python 3"
    },
    "language_info": {
      "name": "python"
    }
  },
  "cells": [
    {
      "cell_type": "code",
      "execution_count": 1,
      "metadata": {
        "colab": {
          "base_uri": "https://localhost:8080/"
        },
        "id": "XtewKHEwPY9U",
        "outputId": "c99179c9-5aec-4e70-f217-a90197c84598"
      },
      "outputs": [
        {
          "output_type": "stream",
          "name": "stdout",
          "text": [
            "110.0円（税込)\n"
          ]
        }
      ],
      "source": [
        "#第１引数に商品の金額、第２引数に消費税(10％)として消費税を加えた計算結果を返す関数\n",
        "def total_price(price, tax):\n",
        "  tax_amount = price * (tax / 100)\n",
        "  total_price = price + tax_amount\n",
        "  print(f\"{total_price}円（税込)\")\n",
        "\n",
        "total_price(100,10)"
      ]
    }
  ]
}